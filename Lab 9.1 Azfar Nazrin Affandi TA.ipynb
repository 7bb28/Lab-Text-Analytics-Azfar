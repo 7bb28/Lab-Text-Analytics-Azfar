{
 "cells": [
  {
   "cell_type": "code",
   "execution_count": 2,
   "id": "f9140abd",
   "metadata": {},
   "outputs": [
    {
     "name": "stderr",
     "output_type": "stream",
     "text": [
      "[nltk_data] Downloading package stopwords to\n",
      "[nltk_data]     C:\\Users\\cyber\\AppData\\Roaming\\nltk_data...\n",
      "[nltk_data]   Package stopwords is already up-to-date!\n",
      "[nltk_data] Downloading package punkt to\n",
      "[nltk_data]     C:\\Users\\cyber\\AppData\\Roaming\\nltk_data...\n",
      "[nltk_data]   Package punkt is already up-to-date!\n",
      "[nltk_data] Downloading package wordnet to\n",
      "[nltk_data]     C:\\Users\\cyber\\AppData\\Roaming\\nltk_data...\n",
      "[nltk_data]   Package wordnet is already up-to-date!\n"
     ]
    },
    {
     "data": {
      "text/plain": [
       "True"
      ]
     },
     "execution_count": 2,
     "metadata": {},
     "output_type": "execute_result"
    }
   ],
   "source": [
    "# For text preprocessing\n",
    "\n",
    "import nltk\n",
    "from nltk.corpus import stopwords\n",
    "from nltk.tokenize import word_tokenize\n",
    "from nltk.stem import WordNetLemmatizer\n",
    "\n",
    "# For topic modeling\n",
    "from gensim import corpora\n",
    "from gensim.models import LdaModel\n",
    "\n",
    "# Download NLTK Resources\n",
    "nltk.download('stopwords')\n",
    "nltk.download('punkt')\n",
    "nltk.download('wordnet')"
   ]
  },
  {
   "cell_type": "code",
   "execution_count": 3,
   "id": "fceb2be4",
   "metadata": {},
   "outputs": [],
   "source": [
    "documents = [\n",
    " \"Rafael Nadal Joins Roger Federer in Missing U.S. Open\",\n",
    " \"Rafael Nadal Is Out of the Australian Open\",\n",
    " \"Biden Announces Virus Measures\",\n",
    " \"Biden's Virus Plans Meet Reality\",\n",
    " \"Where Biden's Virus Plan Stands\"\n",
    "]"
   ]
  },
  {
   "cell_type": "code",
   "execution_count": 7,
   "id": "565fe131",
   "metadata": {},
   "outputs": [
    {
     "data": {
      "text/plain": [
       "[['rafael', 'nadal', 'joins', 'roger', 'federer', 'missing', 'open'],\n",
       " ['rafael', 'nadal', 'australian', 'open'],\n",
       " ['biden', 'announces', 'virus', 'measures'],\n",
       " ['biden', 'virus', 'plans', 'meet', 'reality'],\n",
       " ['biden', 'virus', 'plan', 'stands']]"
      ]
     },
     "execution_count": 7,
     "metadata": {},
     "output_type": "execute_result"
    }
   ],
   "source": [
    "stop_words = set(stopwords.words('english')) # Create a set of English stopwords \n",
    "lemmatizer = WordNetLemmatizer() # Initialize a WordNet Lemmatizer\n",
    "\n",
    "def preprocess_text(text):\n",
    "    tokens = word_tokenize(text.lower()) # Tokenize the text into words and convert to lowercase\n",
    "    tokens = [token for token in tokens if token.isalnum()] # Filter out non-alphanumeric tokens\n",
    "    tokens = [token for token in tokens if token not in stop_words] # Remove stopwords from the tokens tokens [lemmatizer.lemmatize(token) for token in tokens] # Lemmatize each token\n",
    "    return tokens #Return the preprocessed tokens\n",
    "preprocessed_documents = [preprocess_text(doc) for doc in documents] # Preprocess each document in the list\n",
    "preprocessed_documents "
   ]
  },
  {
   "cell_type": "code",
   "execution_count": null,
   "id": "0fd904df",
   "metadata": {},
   "outputs": [],
   "source": []
  }
 ],
 "metadata": {
  "kernelspec": {
   "display_name": "Python 3 (ipykernel)",
   "language": "python",
   "name": "python3"
  },
  "language_info": {
   "codemirror_mode": {
    "name": "ipython",
    "version": 3
   },
   "file_extension": ".py",
   "mimetype": "text/x-python",
   "name": "python",
   "nbconvert_exporter": "python",
   "pygments_lexer": "ipython3",
   "version": "3.11.5"
  }
 },
 "nbformat": 4,
 "nbformat_minor": 5
}
