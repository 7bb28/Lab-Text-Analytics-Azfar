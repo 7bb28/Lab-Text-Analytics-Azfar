{
 "cells": [
  {
   "cell_type": "code",
   "execution_count": 1,
   "id": "8ea6e91a",
   "metadata": {},
   "outputs": [],
   "source": [
    "import requests\n",
    "from bs4 import BeautifulSoup\n",
    "import csv"
   ]
  },
  {
   "cell_type": "code",
   "execution_count": 2,
   "id": "e0311966",
   "metadata": {},
   "outputs": [],
   "source": [
    "page = requests.get('https://quotes.toscrape.com')"
   ]
  },
  {
   "cell_type": "code",
   "execution_count": 3,
   "id": "791e210a",
   "metadata": {},
   "outputs": [],
   "source": [
    "soup = BeautifulSoup(page.text, 'html.parser')\n",
    "\n",
    "quotes = []\n",
    "\n",
    "quote_elements = soup.find_all('div', class_ = 'quote')\n",
    "    "
   ]
  },
  {
   "cell_type": "code",
   "execution_count": 4,
   "id": "447a56f3",
   "metadata": {},
   "outputs": [
    {
     "ename": "NameError",
     "evalue": "name 'quote_elements' is not defined",
     "output_type": "error",
     "traceback": [
      "\u001b[1;31m---------------------------------------------------------------------------\u001b[0m",
      "\u001b[1;31mNameError\u001b[0m                                 Traceback (most recent call last)",
      "Cell \u001b[1;32mIn[4], line 1\u001b[0m\n\u001b[1;32m----> 1\u001b[0m \u001b[38;5;28;01mfor\u001b[39;00m quote_element \u001b[38;5;129;01min\u001b[39;00m quote_elements:\n\u001b[0;32m      2\u001b[0m     text \u001b[38;5;241m=\u001b[39m quote\u001b[38;5;241m.\u001b[39melement\u001b[38;5;241m.\u001b[39mfind(\u001b[38;5;124m'\u001b[39m\u001b[38;5;124mspan\u001b[39m\u001b[38;5;124m'\u001b[39m, class_ \u001b[38;5;241m=\u001b[39m \u001b[38;5;124m'\u001b[39m\u001b[38;5;124mauthor\u001b[39m\u001b[38;5;124m'\u001b[39m)\u001b[38;5;241m.\u001b[39mtext\n\u001b[0;32m      3\u001b[0m     author \u001b[38;5;241m=\u001b[39m quote_element\u001b[38;5;241m.\u001b[39mfind(\u001b[38;5;124m'\u001b[39m\u001b[38;5;124msmall\u001b[39m\u001b[38;5;124m'\u001b[39m, class_\u001b[38;5;241m=\u001b[39m\u001b[38;5;124m'\u001b[39m\u001b[38;5;124mauthor\u001b[39m\u001b[38;5;124m'\u001b[39m)\u001b[38;5;241m.\u001b[39mtext\n",
      "\u001b[1;31mNameError\u001b[0m: name 'quote_elements' is not defined"
     ]
    }
   ],
   "source": [
    "for quote_element in quote_elements:\n",
    "    text = quote.element.find('span', class_ = 'author').text\n",
    "    author = quote_element.find('small', class_='author').text"
   ]
  },
  {
   "cell_type": "code",
   "execution_count": 5,
   "id": "aafb7f70",
   "metadata": {},
   "outputs": [
    {
     "ename": "NameError",
     "evalue": "name 'quote_elements' is not defined",
     "output_type": "error",
     "traceback": [
      "\u001b[1;31m---------------------------------------------------------------------------\u001b[0m",
      "\u001b[1;31mNameError\u001b[0m                                 Traceback (most recent call last)",
      "Cell \u001b[1;32mIn[5], line 1\u001b[0m\n\u001b[1;32m----> 1\u001b[0m \u001b[38;5;28;01mfor\u001b[39;00m quote_element \u001b[38;5;129;01min\u001b[39;00m quote_elements:\n\u001b[0;32m      2\u001b[0m     \u001b[38;5;66;03m# extract the text of the quote\u001b[39;00m\n\u001b[0;32m      3\u001b[0m     text \u001b[38;5;241m=\u001b[39m quote_element\u001b[38;5;241m.\u001b[39mfind(\u001b[38;5;124m'\u001b[39m\u001b[38;5;124mspan\u001b[39m\u001b[38;5;124m'\u001b[39m, class_\u001b[38;5;241m=\u001b[39m\u001b[38;5;124m'\u001b[39m\u001b[38;5;124mtext\u001b[39m\u001b[38;5;124m'\u001b[39m)\u001b[38;5;241m.\u001b[39mtext\n\u001b[0;32m      4\u001b[0m     \u001b[38;5;66;03m# extract the author of the quote\u001b[39;00m\n",
      "\u001b[1;31mNameError\u001b[0m: name 'quote_elements' is not defined"
     ]
    }
   ],
   "source": [
    "for quote_element in quote_elements:\n",
    "    # extract the text of the quote\n",
    "    text = quote_element.find('span', class_='text').text\n",
    "    # extract the author of the quote\n",
    "    author = quote_element.find('small', class_='author').text"
   ]
  },
  {
   "cell_type": "code",
   "execution_count": 6,
   "id": "49c84a47",
   "metadata": {},
   "outputs": [
    {
     "ename": "NameError",
     "evalue": "name 'quote_elements' is not defined",
     "output_type": "error",
     "traceback": [
      "\u001b[1;31m---------------------------------------------------------------------------\u001b[0m",
      "\u001b[1;31mNameError\u001b[0m                                 Traceback (most recent call last)",
      "Cell \u001b[1;32mIn[6], line 1\u001b[0m\n\u001b[1;32m----> 1\u001b[0m \u001b[38;5;28;01mfor\u001b[39;00m quote_element \u001b[38;5;129;01min\u001b[39;00m quote_elements:\n\u001b[0;32m      2\u001b[0m     \u001b[38;5;66;03m# extract the text of the quote\u001b[39;00m\n\u001b[0;32m      3\u001b[0m     text \u001b[38;5;241m=\u001b[39m quote_element\u001b[38;5;241m.\u001b[39mfind(\u001b[38;5;124m'\u001b[39m\u001b[38;5;124mspan\u001b[39m\u001b[38;5;124m'\u001b[39m, class_\u001b[38;5;241m=\u001b[39m\u001b[38;5;124m'\u001b[39m\u001b[38;5;124mtext\u001b[39m\u001b[38;5;124m'\u001b[39m)\u001b[38;5;241m.\u001b[39mtext\n\u001b[0;32m      4\u001b[0m     \u001b[38;5;66;03m# extract the author of the quote\u001b[39;00m\n",
      "\u001b[1;31mNameError\u001b[0m: name 'quote_elements' is not defined"
     ]
    }
   ],
   "source": [
    "for quote_element in quote_elements:\n",
    "    # extract the text of the quote\n",
    "    text = quote_element.find('span', class_='text').text\n",
    "    # extract the author of the quote\n",
    "    author = quote_element.find('small', class_='author').text"
   ]
  },
  {
   "cell_type": "code",
   "execution_count": null,
   "id": "24446c03",
   "metadata": {},
   "outputs": [],
   "source": []
  }
 ],
 "metadata": {
  "kernelspec": {
   "display_name": "Python 3 (ipykernel)",
   "language": "python",
   "name": "python3"
  },
  "language_info": {
   "codemirror_mode": {
    "name": "ipython",
    "version": 3
   },
   "file_extension": ".py",
   "mimetype": "text/x-python",
   "name": "python",
   "nbconvert_exporter": "python",
   "pygments_lexer": "ipython3",
   "version": "3.11.5"
  }
 },
 "nbformat": 4,
 "nbformat_minor": 5
}
